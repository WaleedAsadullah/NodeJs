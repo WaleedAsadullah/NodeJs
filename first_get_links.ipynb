{
 "cells": [
  {
   "cell_type": "code",
   "execution_count": 2,
   "id": "8e78d332",
   "metadata": {},
   "outputs": [],
   "source": [
    "from bs4 import BeautifulSoup\n",
    "from urllib.request import Request, urlopen\n",
    "import re\n",
    "import time\n",
    "import pandas as pd "
   ]
  },
  {
   "cell_type": "code",
   "execution_count": 3,
   "id": "457a44fb",
   "metadata": {},
   "outputs": [],
   "source": [
    "business_cities_states_links_csv_df = pd.read_csv('business_cities_states_links_csv.csv')\n",
    "business_cities_states_links_csv_df = business_cities_states_links_csv_df['business_cities_states_links_csv']\n",
    "business_cities_states_links_csv_dfs = business_cities_states_links_csv_df.values.tolist()"
   ]
  },
  {
   "cell_type": "code",
   "execution_count": 6,
   "id": "757ef650",
   "metadata": {},
   "outputs": [
    {
     "name": "stdout",
     "output_type": "stream",
     "text": [
      "https://www.yellowpagesdirectory.com/Abbeville-AL/Best-top-1031+Exchange\n",
      "https://www.yellowpagesdirectory.com/Abbeville-AL/Best-top-Accounting+-and-+Bookkeeping+Services\n",
      "https://www.yellowpagesdirectory.com/Abbeville-AL/Best-top-Adult+Entertainment+Products+-and-+Services\n",
      "https://www.yellowpagesdirectory.com/Abbeville-AL/Best-top-Advertising\n",
      "https://www.yellowpagesdirectory.com/Abbeville-AL/Best-top-Advertising+Agencies+-and-+Consultants\n",
      "https://www.yellowpagesdirectory.com/Abbeville-AL/Best-top-Air+Conditioning+-and-+Heating\n",
      "https://www.yellowpagesdirectory.com/Abbeville-AL/Best-top-Air+Conditioning+Contractors+-and-+Systems\n",
      "https://www.yellowpagesdirectory.com/Abbeville-AL/Best-top-Air+Freight+-and-+Package+Express+Service\n",
      "https://www.yellowpagesdirectory.com/Abbeville-AL/Best-top-Alcoholism+Information+-and-+Treatment+Centers\n",
      "https://www.yellowpagesdirectory.com/Abbeville-AL/Best-top-Ambulance+Services\n"
     ]
    }
   ],
   "source": [
    "specific_business_cities_states_links = []\n",
    "for business_cities_states_links_csv_df in business_cities_states_links_csv_dfs[:10]:\n",
    "    print(business_cities_states_links_csv_df)\n",
    "    time.sleep(1)\n",
    "    req_states_cities_business = Request(business_cities_states_links_csv_df, headers={'User-Agent': 'Mozilla/5.0'})\n",
    "    html_page_states_cities_business = urlopen(req_states_cities_business).read()\n",
    "    soup_states_cities_business = BeautifulSoup(html_page_states_cities_business, 'html.parser')\n",
    "    \n",
    "    for soup_states_cities_business_badges in soup_states_cities_business.body.findAll('div', attrs={'class': 'new-nav'}):\n",
    "#         print(soup_states_cities_business_badges)\n",
    "        for badge in [soup_states_cities_business_badges]:\n",
    "            phones = badge.findAll('span',attrs={'class': 'new-bg'})\n",
    "            if(len(phones)>0):\n",
    "                for phone in phones:\n",
    "                    for phone_link in phone.findAll('a'):\n",
    "                        specific_business_cities_states_links.append(phone_link.get('href'))\n",
    "            else:\n",
    "                for phone_link in badge.findAll('a'):\n",
    "                    if(phone_link.get('href').find('http')==-1):\n",
    "                        specific_business_cities_states_links.append('https://www.yellowpagesdirectory.com/'+phone_link.get('href'))"
   ]
  },
  {
   "cell_type": "code",
   "execution_count": 7,
   "id": "8d876ba2",
   "metadata": {},
   "outputs": [],
   "source": [
    "specific_business_cities_states_links\n",
    "\n",
    "specific_business_cities_states_links_csv = specific_business_cities_states_links\n",
    "     \n",
    "# dictionary of lists  \n",
    "dict = {'specific_business_cities_states_links_csv': specific_business_cities_states_links_csv}  \n",
    "       \n",
    "df = pd.DataFrame(dict) \n",
    "    \n",
    "# saving the dataframe \n",
    "df.to_csv('final_specific_business_cities_states_links_csv.csv') "
   ]
  },
  {
   "cell_type": "code",
   "execution_count": null,
   "id": "1defe27f",
   "metadata": {},
   "outputs": [],
   "source": []
  }
 ],
 "metadata": {
  "kernelspec": {
   "display_name": "Python 3 (ipykernel)",
   "language": "python",
   "name": "python3"
  },
  "language_info": {
   "codemirror_mode": {
    "name": "ipython",
    "version": 3
   },
   "file_extension": ".py",
   "mimetype": "text/x-python",
   "name": "python",
   "nbconvert_exporter": "python",
   "pygments_lexer": "ipython3",
   "version": "3.9.13"
  }
 },
 "nbformat": 4,
 "nbformat_minor": 5
}
