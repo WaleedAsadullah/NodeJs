{
 "cells": [
  {
   "cell_type": "code",
   "execution_count": 46,
   "id": "2a73c5ca",
   "metadata": {},
   "outputs": [
    {
     "name": "stderr",
     "output_type": "stream",
     "text": [
      "C:\\Users\\SourceCode\\AppData\\Local\\Temp\\ipykernel_9332\\1744408483.py:14: DeprecationWarning: executable_path has been deprecated, please pass in a Service object\n",
      "  browser = webdriver.Chrome(\n"
     ]
    }
   ],
   "source": [
    "# Import the library Selenium\n",
    "from selenium import webdriver\n",
    "from selenium.webdriver.common.action_chains import ActionChains\n",
    "from selenium.webdriver.common.by import By\n",
    "import time\n",
    "from bs4 import BeautifulSoup\n",
    "\n",
    "\n",
    "# Make browser open in background\n",
    "options = webdriver.ChromeOptions()\n",
    "options.add_argument('headless')\n",
    "\n",
    "# Create the webdriver object\n",
    "browser = webdriver.Chrome(\n",
    "    executable_path=\"C:\\chromedriver_win32\\chromedriver.exe\",\n",
    "options=options)\n"
   ]
  },
  {
   "cell_type": "code",
   "execution_count": 34,
   "id": "14a5433a",
   "metadata": {},
   "outputs": [
    {
     "name": "stdout",
     "output_type": "stream",
     "text": [
      "None\n",
      "https://www.google.com/maps/place/Cambria+Hotel+Washington,+D.C.+Convention+Center/data=!4m10!3m9!1s0x89b7b7edc1bc4a5d:0x9a9e80ae4f8309da!5m2!4m1!1i2!8m2!3d38.908946!4d-77.02346!16s%2Fg%2F1pzr9pv82!19sChIJXUq8we23t4kR2gmDT66Anpo?authuser=0&hl=en&rclk=1\n",
      "https://www.google.com/maps/place/Hilton+Washington+DC+Capitol+Hill/data=!4m10!3m9!1s0x89b7b789dc541a53:0x1e802c41a76fb795!5m2!4m1!1i2!8m2!3d38.89685!4d-77.010906!16s%2Fg%2F11lrc5bm1c!19sChIJUxpU3Im3t4kRlbdvp0EsgB4?authuser=0&hl=en&rclk=1\n",
      "https://www.google.com/maps/place/Hotel+Harrington/data=!4m10!3m9!1s0x89b7b790b0b63097:0xabf2b3ec9f868279!5m2!4m1!1i2!8m2!3d38.8958983!4d-77.0273424!16s%2Fg%2F1tw_p44b!19sChIJlzC2sJC3t4kReYKGn-yz8qs?authuser=0&hl=en&rclk=1\n",
      "https://www.google.com/maps/place/Holiday+Inn+Washington+Capitol+-+Natl+Mall,+an+IHG+Hotel/data=!4m10!3m9!1s0x89b7b782fa574a1d:0xb3abad5b6c32eb2a!5m2!4m1!1i2!8m2!3d38.885564!4d-77.0196989!16s%2Fm%2F0_y38f8!19sChIJHUpX-oK3t4kRKusybFutq7M?authuser=0&hl=en&rclk=1\n",
      "https://www.google.com/maps/place/Capitol+Hill+Hotel/data=!4m10!3m9!1s0x89b7b82c3c70ee09:0xc41a612db5224db!5m2!4m1!1i2!8m2!3d38.8862775!4d-77.0031836!16s%2Fg%2F1vhq4lr2!19sChIJCe5wPCy4t4kR2yRS2xKmQQw?authuser=0&hl=en&rclk=1\n",
      "https://www.google.com/maps/place/Motto+by+Hilton+Washington+DC+City+Center/data=!4m10!3m9!1s0x89b7b78dfaaa0745:0x58d8768a0f288f41!5m2!4m1!1i2!8m2!3d38.8999528!4d-77.0212023!16s%2Fg%2F11c60kr9_m!19sChIJRQeq-o23t4kRQY8oD4p22Fg?authuser=0&hl=en&rclk=1\n",
      "https://www.google.com/maps/place/YOTEL+Washington+DC/data=!4m10!3m9!1s0x89b7b7882bf5bca5:0x68fb2da723e9dd3f!5m2!4m1!1i2!8m2!3d38.8953091!4d-77.0108512!16s%2Fm%2F011jd4_7!19sChIJpbz1K4i3t4kRP93pI6ct-2g?authuser=0&hl=en&rclk=1\n",
      "https://www.google.com/maps/place/Hilton+Garden+Inn+Washington+DC%2FU.S.+Capitol/data=!4m10!3m9!1s0x89b7b81edcd09e2d:0xe90fa1f76d9c3372!5m2!4m1!1i2!8m2!3d38.9062586!4d-77.0056282!16s%2Fg%2F1tf6hjnd!19sChIJLZ7Q3B64t4kRcjOcbfehD-k?authuser=0&hl=en&rclk=1\n",
      "https://www.google.com/maps/place/Hyatt+Regency+Washington+On+Capitol+Hill/data=!4m10!3m9!1s0x89b7b78830450321:0xe97ff844edfba90a!5m2!4m1!1i2!8m2!3d38.8954399!4d-77.01168!16s%2Fg%2F1vfp92sj!19sChIJIQNFMIi3t4kRCqn77UT4f-k?authuser=0&hl=en&rclk=1\n",
      "https://www.google.com/maps/place/Courtyard+by+Marriott+Washington,+DC%2FU.S.+Capitol/data=!4m10!3m9!1s0x89b7b81be0a2c289:0x10517b2fc3e5dfd8!5m2!4m1!1i2!8m2!3d38.9078867!4d-77.0032167!16s%2Fm%2F0ws8tsr!19sChIJicKi4Bu4t4kR2N_lwy97URA?authuser=0&hl=en&rclk=1\n",
      "https://www.google.com/maps/place/Fairfield+Inn+%26+Suites+by+Marriott+Washington,+DC%2FDowntown/data=!4m10!3m9!1s0x89b7b78dd45c6c35:0xbe922e9a51fd8f4d!5m2!4m1!1i2!8m2!3d38.899616!4d-77.0191649!16s%2Fg%2F1wtbvs7w!19sChIJNWxc1I23t4kRTY_9UZoukr4?authuser=0&hl=en&rclk=1\n",
      "https://www.google.com/maps/place/Phoenix+Park+Hotel/data=!4m10!3m9!1s0x89b7b82741484081:0x8b6d1955bca6c82b!5m2!4m1!1i2!8m2!3d38.8971319!4d-77.009338!16s%2Fg%2F11fctqph30!19sChIJgUBIQSe4t4kRK8imvFUZbYs?authuser=0&hl=en&rclk=1\n",
      "https://www.google.com/maps/place/Waldorf+Astoria+Washington+DC/data=!4m10!3m9!1s0x89b7b79a1dfd66e9:0xd45a6a779f430162!5m2!4m1!1i2!8m2!3d38.894108!4d-77.027582!16s%2Fg%2F11c545xncj!19sChIJ6Wb9HZq3t4kRYgFDn3dqWtQ?authuser=0&hl=en&rclk=1\n",
      "https://www.google.com/maps/place/Riggs+Washington+DC/data=!4m10!3m9!1s0x89b7b786c9d50e9f:0x93a8623b3d59a494!5m2!4m1!1i2!8m2!3d38.8971417!4d-77.0243762!16s%2Fg%2F11fp7w75bf!19sChIJnw7VyYa3t4kRlKRZPTtiqJM?authuser=0&hl=en&rclk=1\n",
      "https://www.google.com/maps/place/citizenM+Washington+DC+Capitol+hotel/data=!4m10!3m9!1s0x89b7b78281e0cf27:0x63af449c14844b73!5m2!4m1!1i2!8m2!3d38.8837279!4d-77.0194263!16s%2Fg%2F11fr6wb16q!19sChIJJ8_ggYK3t4kRc0uEFJxEr2M?authuser=0&hl=en&rclk=1\n",
      "https://www.google.com/maps/place/Duo+Housing/data=!4m10!3m9!1s0x89b7b7ecbd9321df:0x5e1b19dd29ce16d1!5m2!4m1!1i2!8m2!3d38.9064643!4d-77.0267513!16s%2Fg%2F1pp2t_m93!19sChIJ3yGTvey3t4kR0RbOKd0ZG14?authuser=0&hl=en&rclk=1\n",
      "https://www.google.com/maps/place/Kimpton+George+Hotel/data=!4m10!3m9!1s0x89b7b8277b6499c1:0x4bbf06bfde4ab5aa!5m2!4m1!1i2!8m2!3d38.8963312!4d-77.0098888!16s%2Fm%2F04630q9!19sChIJwZlkeye4t4kRqrVK3r8Gv0s?authuser=0&hl=en&rclk=1\n",
      "https://www.google.com/maps/place/Cambria+Hotel+Washington,+D.C.+Convention+Center/data=!4m10!3m9!1s0x89b7b7edb9b663c1:0x9a9e80ae4f8309da!5m2!4m1!1i2!8m2!3d38.9089457!4d-77.0234597!16s%2Fg%2F1pzr9pv82!19sChIJwWO2ue23t4kR2gmDT66Anpo?authuser=0&hl=en&rclk=1\n",
      "https://www.google.com/maps/place/Hilton+Washington+DC+Capitol+Hill/data=!4m10!3m9!1s0x89b7b78c9e74f165:0x1e802c41a76fb795!5m2!4m1!1i2!8m2!3d38.89685!4d-77.010906!16s%2Fg%2F11lrc5bm1c!19sChIJZfF0noy3t4kRlbdvp0EsgB4?authuser=0&hl=en&rclk=1\n",
      "https://www.google.com/maps/place/DC+International+Hostel+1/data=!4m10!3m9!1s0x89b7b7ee26f81de5:0x91b98e9dac61edd9!5m2!4m1!1i2!8m2!3d38.9115586!4d-77.0220976!16s%2Fg%2F11dzdh7nsp!19sChIJ5R34Ju63t4kR2e1hrJ2OuZE?authuser=0&hl=en&rclk=1\n",
      "https://www.google.com/maps/place/Grand+Hyatt+Washington/data=!4m10!3m9!1s0x89b7b7915e14374b:0xeef081ecdbf51546!5m2!4m1!1i2!8m2!3d38.8993973!4d-77.0265437!16s%2Fm%2F09v4mmm!19sChIJSzcUXpG3t4kRRhX12-yB8O4?authuser=0&hl=en&rclk=1\n",
      "https://www.google.com/maps/place/Holiday+Inn+Express+Washington+DC+Downtown,+an+IHG+Hotel/data=!4m10!3m9!1s0x89b7b78f493bdc9b:0x8ac912ced9ad26c5!5m2!4m1!1i2!8m2!3d38.9028519!4d-77.0160109!16s%2Fg%2F11kp2plz41!19sChIJm9w7SY-3t4kRxSat2c4SyYo?authuser=0&hl=en&rclk=1\n",
      "https://www.google.com/maps/place/Grand+Hyatt+Washington/data=!4m10!3m9!1s0x89b7b7915e14374b:0xeef081ecdbf51546!5m2!4m1!1i2!8m2!3d38.8993973!4d-77.0265437!16s%2Fm%2F09v4mmm!19sChIJSzcUXpG3t4kRRhX12-yB8O4?authuser=0&hl=en&rclk=1\n",
      "https://www.google.com/maps/place/Dc+International+Hostel+2/data=!4m10!3m9!1s0x89b7b7b0708404c7:0x1280b326908675ff!5m2!4m1!1i2!8m2!3d38.909244!4d-77.0243!16s%2Fg%2F11c6qdzvd1!19sChIJxwSEcLC3t4kR_3WGkCazgBI?authuser=0&hl=en&rclk=1\n",
      "https://www.google.com/maps/place/Comfort+Inn+Downtown+DC%2FConvention+Center/data=!4m10!3m9!1s0x89b7b7eb3409bb2d:0xf807b7b29b626513!5m2!4m1!1i2!8m2!3d38.9059244!4d-77.0292425!16s%2Fg%2F1tfb7g1f!19sChIJLbsJNOu3t4kRE2Vim7K3B_g?authuser=0&hl=en&rclk=1\n",
      "https://www.google.com/maps/place/Homewood+Suites+by+Hilton+Washington+DC+NoMa+Union+Station/data=!4m10!3m9!1s0x89b7b81039ed79e5:0xb0c48b36fcd89308!5m2!4m1!1i2!8m2!3d38.9112096!4d-76.9967062!16s%2Fg%2F11c52ktp3k!19sChIJ5XntORC4t4kRCJPY_DaLxLA?authuser=0&hl=en&rclk=1\n",
      "https://www.google.com/maps/place/Washington+Marriott+at+Metro+Center/data=!4m10!3m9!1s0x89b7b796b15b67e9:0x5af73ccb2edfea02!5m2!4m1!1i2!8m2!3d38.8993141!4d-77.0280352!16s%2Fg%2F1tf03cfq!19sChIJ6WdbsZa3t4kRAurfLss891o?authuser=0&hl=en&rclk=1\n",
      "https://www.google.com/maps/place/WhyHotel+by+Placemakr,+Union+Market,+Washington,+DC/data=!4m10!3m9!1s0x89b7b9c66bfcc99d:0x6f021940ca094d24!5m2!4m1!1i2!8m2!3d38.9067356!4d-77.0009319!16s%2Fg%2F11ny23cqf9!19sChIJncn8a8a5t4kRJE0JykAZAm8?authuser=0&hl=en&rclk=1\n",
      "https://www.google.com/maps/place/Hampton+Inn+Washington-Downtown-Convention+Center/data=!4m10!3m9!1s0x89b7b78da5ca5e71:0x4dca5b62425122dc!5m2!4m1!1i2!8m2!3d38.901784!4d-77.019465!16s%2Fg%2F1ts1njkh!19sChIJcV7KpY23t4kR3CJRQmJbyk0?authuser=0&hl=en&rclk=1\n",
      "https://www.google.com/maps/place/AC+Hotel+by+Marriott+Washington+DC+Convention+Center/data=!4m10!3m9!1s0x89b7b78d13b83963:0x296bb5e596bc2b25!5m2!4m1!1i2!8m2!3d38.9027937!4d-77.0201478!16s%2Fg%2F11jfqlr9w9!19sChIJYzm4E423t4kRJSu8luW1ayk?authuser=0&hl=en&rclk=1\n",
      "https://www.google.com/maps/place/Motel+6+Washington,+DC+-+Convention+Center/data=!4m10!3m9!1s0x89b7b8107b3b445b:0x4fdcf96067de9eca!5m2!4m1!1i2!8m2!3d38.9101877!4d-76.9978995!16s%2Fg%2F1th5dg3d!19sChIJW0Q7exC4t4kRyp7eZ2D53E8?authuser=0&hl=en&rclk=1\n",
      "https://www.google.com/maps/place/Kimpton+Hotel+Monaco+Washington+DC/data=!4m10!3m9!1s0x89b7b791d2e2c71b:0x97accdbaf16b89f8!5m2!4m1!1i2!8m2!3d38.8970339!4d-77.022408!16s%2Fm%2F04648nk!19sChIJG8fi0pG3t4kR-Ilr8brNrJc?authuser=0&hl=en&rclk=1\n",
      "https://www.google.com/maps/place/The+Henley+Park+Hotel/data=!4m10!3m9!1s0x89b7b7930e481d91:0x16409a549f3beb06!5m2!4m1!1i2!8m2!3d38.9029777!4d-77.0254914!16s%2Fm%2F0408_0q!19sChIJkR1IDpO3t4kRBus7n1SaQBY?authuser=0&hl=en&rclk=1\n",
      "https://www.google.com/maps/place/Eldon+Luxury+Suites/data=!4m10!3m9!1s0x89b7b79324f08251:0xa079e7899be95ab4!5m2!4m1!1i2!8m2!3d38.9043657!4d-77.0253806!16s%2Fg%2F1w1131x8!19sChIJUYLwJJO3t4kRtFrpm4nneaA?authuser=0&hl=en&rclk=1\n",
      "https://www.google.com/maps/place/Hyatt+Place+Washington+Dc%2FUs+Capitol/data=!4m10!3m9!1s0x89b7b81e7d6824d9:0xa93258fa9eea090b!5m2!4m1!1i2!8m2!3d38.907278!4d-77.0077355!16s%2Fg%2F1q62h73rf!19sChIJ2SRofR64t4kRCwnqnvpYMqk?authuser=0&hl=en&rclk=1\n",
      "https://www.google.com/maps/place/Selina+Union+Market+%26+Cowork/data=!4m10!3m9!1s0x89b7b98eadfc8e7b:0xe808f99765a939e6!5m2!4m1!1i2!8m2!3d38.9109998!4d-76.9975151!16s%2Fg%2F11rv00gxs7!19sChIJe478rY65t4kR5jmpZZf5COg?authuser=0&hl=en&rclk=1\n",
      "https://www.google.com/maps/place/Renaissance+Washington,+DC+Downtown+Hotel/data=!4m10!3m9!1s0x89b7b7925ae8038f:0x9e577816653a60c5!5m2!4m1!1i2!8m2!3d38.901684!4d-77.0238327!16s%2Fm%2F04f2xtl!19sChIJjwPoWpK3t4kRxWA6ZRZ4V54?authuser=0&hl=en&rclk=1\n",
      "https://www.google.com/maps/place/Courtyard+by+Marriott+Washington+Downtown%2FConvention+Center/data=!4m10!3m9!1s0x89b7b7fe80477e8f:0x64497ab28e3c9550!5m2!4m1!1i2!8m2!3d38.9043739!4d-77.0245939!16s%2Fg%2F11g4j_cj0q!19sChIJj35HgP63t4kRUJU8jrJ6SWQ?authuser=0&hl=en&rclk=1\n",
      "https://www.google.com/maps/place/The+Morrow+Washington+DC,+Curio+Collection+by+Hilton/data=!4m10!3m9!1s0x89b7b8191abe56ed:0x7a6e8d0f3a9b4606!5m2!4m1!1i2!8m2!3d38.906095!4d-77.0022631!16s%2Fg%2F11t3_0s0d1!19sChIJ7Va-Ghm4t4kRBkabOg-Nbno?authuser=0&hl=en&rclk=1\n",
      "https://www.google.com/maps/place/Embassy+Suites+by+Hilton+Washington+DC+Convention+Center/data=!4m10!3m9!1s0x89b7b79397852567:0x8c2278415823997!5m2!4m1!1i2!8m2!3d38.9019456!4d-77.0262179!16s%2Fg%2F1tf76dj2!19sChIJZyWFl5O3t4kRlzmCFYQnwgg?authuser=0&hl=en&rclk=1\n",
      "https://www.google.com/maps/place/Residence+Inn+by+Marriott+Washington+Downtown%2FConvention+Center/data=!4m10!3m9!1s0x89b7b792da80ab6f:0xad2f8e996b2774bf!5m2!4m1!1i2!8m2!3d38.9043693!4d-77.0242258!16s%2Fg%2F11f6djpdzd!19sChIJb6uA2pK3t4kRv3Qna5mOL60?authuser=0&hl=en&rclk=1\n",
      "https://www.google.com/maps/place/Moxy+Washington,+DC+Downtown/data=!4m10!3m9!1s0x89b7b793743ba06d:0x7568394350171ec9!5m2!4m1!1i2!8m2!3d38.902887!4d-77.0266883!16s%2Fg%2F11f0wm8v6v!19sChIJbaA7dJO3t4kRyR4XUEM5aHU?authuser=0&hl=en&rclk=1\n",
      "https://support.google.com/websearch/answer/6276008\n",
      "https://www.google.com.pk/intl/en/about/products?tab=lh\n"
     ]
    },
    {
     "name": "stdout",
     "output_type": "stream",
     "text": [
      "https://accounts.google.com/ServiceLogin?hl=en&passive=true&continue=https%3A%2F%2Fwww.google.com%2Fmaps%2Fsearch%2FHotels%2F%4038.8992134%2C-77.0319633%2C13z%2Fdata%3D!4m2!2m1!6e3%3Fauthuser%3D0%26hl%3Den&service=local&ec=GAZAcQ\n",
      "None\n"
     ]
    }
   ],
   "source": [
    "\n",
    "# Obtain the Google Map URL\n",
    "url = [\"https://www.google.com/maps/search/restaurants/@24.8814122,67.0972146,14z/data=!4m2!2m1!6e5\"]\n",
    "url = ['https://www.google.com/maps/search/Hotels/@38.899219,-77.0056986,15z/data=!3m1!4b1?authuser=0&hl=en']\n",
    "# Initialize variables and declare it 0\n",
    "i = 0\n",
    "\n",
    "# Create a loop for obtaining data from URLs\n",
    "for i in range(len(url)):\n",
    "\n",
    "    # Open the Google Map URL\n",
    "    browser.get(url[i])\n",
    "#     print(browser)\n",
    "# \t# Obtain the title of that place\n",
    "    scrollable_elements = browser.find_elements(By.CLASS_NAME,\"m6QErb\")\n",
    "#     browser.execute_script(\"arguments[0].scrollIntoView(true);\", scrollable_element);\n",
    "\n",
    "#     print(scrollable_element.text)\n",
    "    for scrollable_element in scrollable_elements:\n",
    "        for i in range(1,10):\n",
    "            time.sleep(2)\n",
    "            try:\n",
    "                browser.execute_script(\"arguments[0].scroll(0, arguments[0].scrollHeight);\", scrollable_element)\n",
    "            except:\n",
    "                print(\"=\")\n",
    "\n",
    "    \n",
    "#     browser.execute_script(\"arguments[0].scrollIntoView();\", scrollable_element)\n",
    "\n",
    "    \n",
    "    elements = browser.find_elements(By.TAG_NAME, 'a')\n",
    "\n",
    "    for e in elements:\n",
    "        try:\n",
    "            \n",
    "            print(e.get_attribute(\"href\"))\n",
    "        except:\n",
    "            print(\"=\")\n",
    "# \tprint(i+1, \"-\", title.text)\n",
    "\n",
    "# \t# Obtain the ratings of that place\n",
    "# # \tstars = browser.find_element_by_class_name(\"aMPvhf-fI6EEc-KVuj8d\")\n",
    "# # \tprint(\"The stars of restaurant are:\", stars.text)\n",
    "# \tprint(\"\\n\")\n"
   ]
  },
  {
   "cell_type": "code",
   "execution_count": 47,
   "id": "d2d5684e",
   "metadata": {},
   "outputs": [],
   "source": [
    "browser.get(\"https://www.google.com/maps/place/The+Morrow+Washington+DC,+Curio+Collection+by+Hilton/data=!4m10!3m9!1s0x89b7b8191abe56ed:0x7a6e8d0f3a9b4606!5m2!4m1!1i2!8m2!3d38.906095!4d-77.0022631!16s%2Fg%2F11t3_0s0d1!19sChIJ7Va-Ghm4t4kRBkabOg-Nbno?authuser=0&hl=en&rclk=1\")"
   ]
  },
  {
   "cell_type": "code",
   "execution_count": 48,
   "id": "c618f3ce",
   "metadata": {},
   "outputs": [],
   "source": [
    "page_source = browser.page_source"
   ]
  },
  {
   "cell_type": "code",
   "execution_count": 49,
   "id": "0cf40441",
   "metadata": {},
   "outputs": [],
   "source": [
    "soup_states_cities_business_specific = BeautifulSoup(page_source, 'html.parser')\n"
   ]
  },
  {
   "cell_type": "code",
   "execution_count": 52,
   "id": "1c7ecbb6",
   "metadata": {},
   "outputs": [],
   "source": [
    "soup_states_cities_business_specific_badges = soup_states_cities_business_specific.body.find_all('div', attrs={'class': 'Io6YTe'})\n"
   ]
  },
  {
   "cell_type": "code",
   "execution_count": 53,
   "id": "8aad112a",
   "metadata": {},
   "outputs": [
    {
     "name": "stdout",
     "output_type": "stream",
     "text": [
      "<div class=\"Io6YTe fontBodyMedium\" jsan=\"7.Io6YTe,7.fontBodyMedium\" jstcache=\"334\">222 M St NE, Washington, DC 20002, United States</div>\n",
      "<div class=\"Io6YTe fontBodyMedium\" jsan=\"7.Io6YTe,7.fontBodyMedium\" jstcache=\"334\">hilton.com</div>\n",
      "<div class=\"Io6YTe fontBodyMedium\" jsan=\"7.Io6YTe,7.fontBodyMedium\" jstcache=\"334\">+1 202-280-2288</div>\n",
      "<div class=\"Io6YTe fontBodyMedium\" jsan=\"7.Io6YTe,7.fontBodyMedium\" jstcache=\"334\">WX4X+C3 Washington, District of Columbia, USA</div>\n",
      "<div class=\"Io6YTe fontBodyMedium\" jsan=\"7.Io6YTe,7.fontBodyMedium\" jstcache=\"334\">Send to your phone</div>\n",
      "<div class=\"Io6YTe fontBodyMedium\" jsan=\"7.Io6YTe,7.fontBodyMedium\" jstcache=\"335\"><span style=\"font-weight:400;\">Check-in time: 4:00 pm</span><br/><span style=\"font-weight:400;\">Check-out time: 11:00 am</span></div>\n"
     ]
    }
   ],
   "source": [
    "for soup_states_cities_business_specific_badge in soup_states_cities_business_specific_badges:\n",
    "    print(soup_states_cities_business_specific_badge)"
   ]
  },
  {
   "cell_type": "code",
   "execution_count": 22,
   "id": "2d92236b",
   "metadata": {},
   "outputs": [],
   "source": [
    "elements = browser.find_elements(By.CLASS_NAME, 'Io6YTe')  #cXHGnc #Io6YTe"
   ]
  },
  {
   "cell_type": "code",
   "execution_count": 26,
   "id": "e3094d40",
   "metadata": {},
   "outputs": [
    {
     "name": "stdout",
     "output_type": "stream",
     "text": [
      "222 M St NE, Washington, DC 20002, United States\n",
      "hilton.com\n",
      "+1 202-280-2288\n",
      "WX4X+C3 Washington, District of Columbia, USA\n",
      "Send to your phone\n",
      "<span style=\"font-weight:400;\">Check-in time: 4:00 pm</span><br><span style=\"font-weight:400;\">Check-out time: 11:00 am</span>\n"
     ]
    }
   ],
   "source": [
    "for e in elements:\n",
    "    print(e.get_attribute('innerHTML'))"
   ]
  },
  {
   "cell_type": "code",
   "execution_count": 44,
   "id": "47498d4a",
   "metadata": {},
   "outputs": [
    {
     "name": "stdout",
     "output_type": "stream",
     "text": [
      "None\n",
      "=\n",
      "https://www.google.com/maps/place/Cambria+Hotel+Washington,+D.C.+Convention+Center/data=!4m10!3m9!1s0x89b7b7edc1bc4a5d:0x9a9e80ae4f8309da!5m2!4m1!1i2!8m2!3d38.908946!4d-77.02346!16s%2Fg%2F1pzr9pv82!19sChIJXUq8we23t4kR2gmDT66Anpo?authuser=0&hl=en&rclk=1\n"
     ]
    },
    {
     "ename": "StaleElementReferenceException",
     "evalue": "Message: stale element reference: element is not attached to the page document\n  (Session info: headless chrome=108.0.5359.125)\nStacktrace:\nBacktrace:\n\t(No symbol) [0x00DBF243]\n\t(No symbol) [0x00D47FD1]\n\t(No symbol) [0x00C3D04D]\n\t(No symbol) [0x00C3FD34]\n\t(No symbol) [0x00C3FBE5]\n\t(No symbol) [0x00C40565]\n\t(No symbol) [0x00C9D47C]\n\t(No symbol) [0x00C8858C]\n\t(No symbol) [0x00C9C9EB]\n\t(No symbol) [0x00C88386]\n\t(No symbol) [0x00C6163C]\n\t(No symbol) [0x00C6269D]\n\tGetHandleVerifier [0x01059A22+2655074]\n\tGetHandleVerifier [0x0104CA24+2601828]\n\tGetHandleVerifier [0x00E68C0A+619850]\n\tGetHandleVerifier [0x00E67830+614768]\n\t(No symbol) [0x00D505FC]\n\t(No symbol) [0x00D55968]\n\t(No symbol) [0x00D55A55]\n\t(No symbol) [0x00D6051B]\n\tBaseThreadInitThunk [0x768A00F9+25]\n\tRtlGetAppContainerNamedObjectPath [0x77497BBE+286]\n\tRtlGetAppContainerNamedObjectPath [0x77497B8E+238]\n",
     "output_type": "error",
     "traceback": [
      "\u001b[1;31m---------------------------------------------------------------------------\u001b[0m",
      "\u001b[1;31mStaleElementReferenceException\u001b[0m            Traceback (most recent call last)",
      "\u001b[1;32m~\\AppData\\Local\\Temp\\ipykernel_9332\\2266958429.py\u001b[0m in \u001b[0;36m<module>\u001b[1;34m\u001b[0m\n\u001b[0;32m     24\u001b[0m \u001b[1;33m\u001b[0m\u001b[0m\n\u001b[0;32m     25\u001b[0m     \u001b[1;32mfor\u001b[0m \u001b[0mget_business_url\u001b[0m \u001b[1;32min\u001b[0m \u001b[0mget_business_urls\u001b[0m\u001b[1;33m:\u001b[0m\u001b[1;33m\u001b[0m\u001b[1;33m\u001b[0m\u001b[0m\n\u001b[1;32m---> 26\u001b[1;33m         \u001b[0mbusiness_url\u001b[0m \u001b[1;33m=\u001b[0m \u001b[0mget_business_url\u001b[0m\u001b[1;33m.\u001b[0m\u001b[0mget_attribute\u001b[0m\u001b[1;33m(\u001b[0m\u001b[1;34m\"href\"\u001b[0m\u001b[1;33m)\u001b[0m\u001b[1;33m\u001b[0m\u001b[1;33m\u001b[0m\u001b[0m\n\u001b[0m\u001b[0;32m     27\u001b[0m         \u001b[0mprint\u001b[0m\u001b[1;33m(\u001b[0m\u001b[0mbusiness_url\u001b[0m\u001b[1;33m)\u001b[0m\u001b[1;33m\u001b[0m\u001b[1;33m\u001b[0m\u001b[0m\n\u001b[0;32m     28\u001b[0m         \u001b[1;32mtry\u001b[0m\u001b[1;33m:\u001b[0m\u001b[1;33m\u001b[0m\u001b[1;33m\u001b[0m\u001b[0m\n",
      "\u001b[1;32m~\\anaconda3\\lib\\site-packages\\selenium\\webdriver\\remote\\webelement.py\u001b[0m in \u001b[0;36mget_attribute\u001b[1;34m(self, name)\u001b[0m\n\u001b[0;32m    177\u001b[0m         \u001b[1;32mif\u001b[0m \u001b[0mgetAttribute_js\u001b[0m \u001b[1;32mis\u001b[0m \u001b[1;32mNone\u001b[0m\u001b[1;33m:\u001b[0m\u001b[1;33m\u001b[0m\u001b[1;33m\u001b[0m\u001b[0m\n\u001b[0;32m    178\u001b[0m             \u001b[0m_load_js\u001b[0m\u001b[1;33m(\u001b[0m\u001b[1;33m)\u001b[0m\u001b[1;33m\u001b[0m\u001b[1;33m\u001b[0m\u001b[0m\n\u001b[1;32m--> 179\u001b[1;33m         attribute_value = self.parent.execute_script(\n\u001b[0m\u001b[0;32m    180\u001b[0m             \u001b[1;34m\"return (%s).apply(null, arguments);\"\u001b[0m \u001b[1;33m%\u001b[0m \u001b[0mgetAttribute_js\u001b[0m\u001b[1;33m,\u001b[0m \u001b[0mself\u001b[0m\u001b[1;33m,\u001b[0m \u001b[0mname\u001b[0m\u001b[1;33m\u001b[0m\u001b[1;33m\u001b[0m\u001b[0m\n\u001b[0;32m    181\u001b[0m         )\n",
      "\u001b[1;32m~\\anaconda3\\lib\\site-packages\\selenium\\webdriver\\remote\\webdriver.py\u001b[0m in \u001b[0;36mexecute_script\u001b[1;34m(self, script, *args)\u001b[0m\n\u001b[0;32m    504\u001b[0m         \u001b[0mcommand\u001b[0m \u001b[1;33m=\u001b[0m \u001b[0mCommand\u001b[0m\u001b[1;33m.\u001b[0m\u001b[0mW3C_EXECUTE_SCRIPT\u001b[0m\u001b[1;33m\u001b[0m\u001b[1;33m\u001b[0m\u001b[0m\n\u001b[0;32m    505\u001b[0m \u001b[1;33m\u001b[0m\u001b[0m\n\u001b[1;32m--> 506\u001b[1;33m         \u001b[1;32mreturn\u001b[0m \u001b[0mself\u001b[0m\u001b[1;33m.\u001b[0m\u001b[0mexecute\u001b[0m\u001b[1;33m(\u001b[0m\u001b[0mcommand\u001b[0m\u001b[1;33m,\u001b[0m \u001b[1;33m{\u001b[0m\u001b[1;34m\"script\"\u001b[0m\u001b[1;33m:\u001b[0m \u001b[0mscript\u001b[0m\u001b[1;33m,\u001b[0m \u001b[1;34m\"args\"\u001b[0m\u001b[1;33m:\u001b[0m \u001b[0mconverted_args\u001b[0m\u001b[1;33m}\u001b[0m\u001b[1;33m)\u001b[0m\u001b[1;33m[\u001b[0m\u001b[1;34m\"value\"\u001b[0m\u001b[1;33m]\u001b[0m\u001b[1;33m\u001b[0m\u001b[1;33m\u001b[0m\u001b[0m\n\u001b[0m\u001b[0;32m    507\u001b[0m \u001b[1;33m\u001b[0m\u001b[0m\n\u001b[0;32m    508\u001b[0m     \u001b[1;32mdef\u001b[0m \u001b[0mexecute_async_script\u001b[0m\u001b[1;33m(\u001b[0m\u001b[0mself\u001b[0m\u001b[1;33m,\u001b[0m \u001b[0mscript\u001b[0m\u001b[1;33m:\u001b[0m \u001b[0mstr\u001b[0m\u001b[1;33m,\u001b[0m \u001b[1;33m*\u001b[0m\u001b[0margs\u001b[0m\u001b[1;33m)\u001b[0m\u001b[1;33m:\u001b[0m\u001b[1;33m\u001b[0m\u001b[1;33m\u001b[0m\u001b[0m\n",
      "\u001b[1;32m~\\anaconda3\\lib\\site-packages\\selenium\\webdriver\\remote\\webdriver.py\u001b[0m in \u001b[0;36mexecute\u001b[1;34m(self, driver_command, params)\u001b[0m\n\u001b[0;32m    442\u001b[0m         \u001b[0mresponse\u001b[0m \u001b[1;33m=\u001b[0m \u001b[0mself\u001b[0m\u001b[1;33m.\u001b[0m\u001b[0mcommand_executor\u001b[0m\u001b[1;33m.\u001b[0m\u001b[0mexecute\u001b[0m\u001b[1;33m(\u001b[0m\u001b[0mdriver_command\u001b[0m\u001b[1;33m,\u001b[0m \u001b[0mparams\u001b[0m\u001b[1;33m)\u001b[0m\u001b[1;33m\u001b[0m\u001b[1;33m\u001b[0m\u001b[0m\n\u001b[0;32m    443\u001b[0m         \u001b[1;32mif\u001b[0m \u001b[0mresponse\u001b[0m\u001b[1;33m:\u001b[0m\u001b[1;33m\u001b[0m\u001b[1;33m\u001b[0m\u001b[0m\n\u001b[1;32m--> 444\u001b[1;33m             \u001b[0mself\u001b[0m\u001b[1;33m.\u001b[0m\u001b[0merror_handler\u001b[0m\u001b[1;33m.\u001b[0m\u001b[0mcheck_response\u001b[0m\u001b[1;33m(\u001b[0m\u001b[0mresponse\u001b[0m\u001b[1;33m)\u001b[0m\u001b[1;33m\u001b[0m\u001b[1;33m\u001b[0m\u001b[0m\n\u001b[0m\u001b[0;32m    445\u001b[0m             \u001b[0mresponse\u001b[0m\u001b[1;33m[\u001b[0m\u001b[1;34m\"value\"\u001b[0m\u001b[1;33m]\u001b[0m \u001b[1;33m=\u001b[0m \u001b[0mself\u001b[0m\u001b[1;33m.\u001b[0m\u001b[0m_unwrap_value\u001b[0m\u001b[1;33m(\u001b[0m\u001b[0mresponse\u001b[0m\u001b[1;33m.\u001b[0m\u001b[0mget\u001b[0m\u001b[1;33m(\u001b[0m\u001b[1;34m\"value\"\u001b[0m\u001b[1;33m,\u001b[0m \u001b[1;32mNone\u001b[0m\u001b[1;33m)\u001b[0m\u001b[1;33m)\u001b[0m\u001b[1;33m\u001b[0m\u001b[1;33m\u001b[0m\u001b[0m\n\u001b[0;32m    446\u001b[0m             \u001b[1;32mreturn\u001b[0m \u001b[0mresponse\u001b[0m\u001b[1;33m\u001b[0m\u001b[1;33m\u001b[0m\u001b[0m\n",
      "\u001b[1;32m~\\anaconda3\\lib\\site-packages\\selenium\\webdriver\\remote\\errorhandler.py\u001b[0m in \u001b[0;36mcheck_response\u001b[1;34m(self, response)\u001b[0m\n\u001b[0;32m    247\u001b[0m                 \u001b[0malert_text\u001b[0m \u001b[1;33m=\u001b[0m \u001b[0mvalue\u001b[0m\u001b[1;33m[\u001b[0m\u001b[1;34m\"alert\"\u001b[0m\u001b[1;33m]\u001b[0m\u001b[1;33m.\u001b[0m\u001b[0mget\u001b[0m\u001b[1;33m(\u001b[0m\u001b[1;34m\"text\"\u001b[0m\u001b[1;33m)\u001b[0m\u001b[1;33m\u001b[0m\u001b[1;33m\u001b[0m\u001b[0m\n\u001b[0;32m    248\u001b[0m             \u001b[1;32mraise\u001b[0m \u001b[0mexception_class\u001b[0m\u001b[1;33m(\u001b[0m\u001b[0mmessage\u001b[0m\u001b[1;33m,\u001b[0m \u001b[0mscreen\u001b[0m\u001b[1;33m,\u001b[0m \u001b[0mstacktrace\u001b[0m\u001b[1;33m,\u001b[0m \u001b[0malert_text\u001b[0m\u001b[1;33m)\u001b[0m  \u001b[1;31m# type: ignore[call-arg]  # mypy is not smart enough here\u001b[0m\u001b[1;33m\u001b[0m\u001b[1;33m\u001b[0m\u001b[0m\n\u001b[1;32m--> 249\u001b[1;33m         \u001b[1;32mraise\u001b[0m \u001b[0mexception_class\u001b[0m\u001b[1;33m(\u001b[0m\u001b[0mmessage\u001b[0m\u001b[1;33m,\u001b[0m \u001b[0mscreen\u001b[0m\u001b[1;33m,\u001b[0m \u001b[0mstacktrace\u001b[0m\u001b[1;33m)\u001b[0m\u001b[1;33m\u001b[0m\u001b[1;33m\u001b[0m\u001b[0m\n\u001b[0m",
      "\u001b[1;31mStaleElementReferenceException\u001b[0m: Message: stale element reference: element is not attached to the page document\n  (Session info: headless chrome=108.0.5359.125)\nStacktrace:\nBacktrace:\n\t(No symbol) [0x00DBF243]\n\t(No symbol) [0x00D47FD1]\n\t(No symbol) [0x00C3D04D]\n\t(No symbol) [0x00C3FD34]\n\t(No symbol) [0x00C3FBE5]\n\t(No symbol) [0x00C40565]\n\t(No symbol) [0x00C9D47C]\n\t(No symbol) [0x00C8858C]\n\t(No symbol) [0x00C9C9EB]\n\t(No symbol) [0x00C88386]\n\t(No symbol) [0x00C6163C]\n\t(No symbol) [0x00C6269D]\n\tGetHandleVerifier [0x01059A22+2655074]\n\tGetHandleVerifier [0x0104CA24+2601828]\n\tGetHandleVerifier [0x00E68C0A+619850]\n\tGetHandleVerifier [0x00E67830+614768]\n\t(No symbol) [0x00D505FC]\n\t(No symbol) [0x00D55968]\n\t(No symbol) [0x00D55A55]\n\t(No symbol) [0x00D6051B]\n\tBaseThreadInitThunk [0x768A00F9+25]\n\tRtlGetAppContainerNamedObjectPath [0x77497BBE+286]\n\tRtlGetAppContainerNamedObjectPath [0x77497B8E+238]\n"
     ]
    }
   ],
   "source": [
    "\n",
    "\n",
    "url = [\"https://www.google.com/maps/search/restaurants/@24.8814122,67.0972146,14z/data=!4m2!2m1!6e5\"]\n",
    "urls = ['https://www.google.com/maps/search/Hotels/@38.899219,-77.0056986,15z/data=!3m1!4b1?authuser=0&hl=en']\n",
    "\n",
    "i = 0\n",
    "\n",
    "for url in urls:\n",
    "\n",
    "    browser.get(url)\n",
    "\n",
    "    scrollable_elements = browser.find_elements(By.CLASS_NAME,\"m6QErb\")\n",
    "\n",
    "    for scrollable_element in scrollable_elements:\n",
    "        for i in range(1,5):\n",
    "            time.sleep(1)\n",
    "            try:\n",
    "                browser.execute_script(\"arguments[0].scroll(0, arguments[0].scrollHeight);\", scrollable_element)\n",
    "                \n",
    "                \n",
    "                \n",
    "            except:\n",
    "                print(\"=\")\n",
    "                \n",
    "    get_business_urls = browser.find_elements(By.TAG_NAME, 'a')\n",
    "    \n",
    "    for get_business_url in get_business_urls:\n",
    "        business_url = get_business_url.get_attribute(\"href\")\n",
    "        print(business_url)\n",
    "        try:\n",
    "# #                 print(get_business_url.get_attribute(\"href\"))\n",
    "\n",
    "            browser.get(business_url)\n",
    "\n",
    "#             business_elements = browser.find_elements(By.CLASS_NAME, 'Io6YTe')  #cXHGnc #Io6YTe\n",
    "\n",
    "\n",
    "# #                 for business_element in business_elements:\n",
    "# #                     print(business_element.get_attribute('innerHTML'))\n",
    "        except:\n",
    "            print(\"=\")\n"
   ]
  },
  {
   "cell_type": "code",
   "execution_count": null,
   "id": "c04022e8",
   "metadata": {},
   "outputs": [],
   "source": []
  }
 ],
 "metadata": {
  "kernelspec": {
   "display_name": "Python 3 (ipykernel)",
   "language": "python",
   "name": "python3"
  },
  "language_info": {
   "codemirror_mode": {
    "name": "ipython",
    "version": 3
   },
   "file_extension": ".py",
   "mimetype": "text/x-python",
   "name": "python",
   "nbconvert_exporter": "python",
   "pygments_lexer": "ipython3",
   "version": "3.9.13"
  }
 },
 "nbformat": 4,
 "nbformat_minor": 5
}
